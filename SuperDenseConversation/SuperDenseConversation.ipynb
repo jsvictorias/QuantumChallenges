{
 "cells": [
  {
   "cell_type": "markdown",
   "metadata": {},
   "source": [
    "## Utilizando codificação superdensa em uma conversa"
   ]
  },
  {
   "cell_type": "markdown",
   "metadata": {},
   "source": [
    "\n",
    "Nessa atividade, você precisara usar o protocolo de codificação superdensa para mandar uma mensagem ao seu colega, aqui vamos chamar de Bob, simplesmente preencha as funções a baixo:"
   ]
  },
  {
   "cell_type": "code",
   "execution_count": null,
   "metadata": {},
   "outputs": [],
   "source": [
    "mensagem = \"quantic is cool\""
   ]
  },
  {
   "cell_type": "code",
   "execution_count": null,
   "metadata": {},
   "outputs": [],
   "source": [
    "def string_to_bin(mensagem):\n",
    "    ''' Essa função recebe como entrada uma string\n",
    "    e devolve os binarios 0s e 1s que representa essa string.\n",
    "    Essa função pode receber letra por letra ou uma \n",
    "    string inteira e converter na sequencia binaria\n",
    "    que a representa.\n",
    "\n",
    "    Args:\n",
    "            - mensagem (string): mensagem que deseja obter o binario.\n",
    "    Returns:\n",
    "            - (list): lista que representa a sequencia binaria do string.\n",
    "\n",
    "    '''\n",
    "    return \n",
    "\n",
    "def bin_to_string(bin):\n",
    "    ''' Essa função recebe uma sequencia de binarios e converte em uma\n",
    "    string.\n",
    "\n",
    "    Args:\n",
    "            - bin (list): lista contendo os binarios.\n",
    "    Returns:\n",
    "            - (string): string da mensagem decodificada.\n",
    "\n",
    "    '''\n",
    "    return\n",
    "\n",
    "def protocol(bin):\n",
    "    ''' Essa função realiza o protocolo mostrado em sala. Aqui, você deve\n",
    "    construir um circuito que emaranha o seu qubit com o de Alice, e dependendo\n",
    "    os binarios que você quer enviar, realiza rotações no seu qubit. Logo apos isso,\n",
    "    Alice recebe esses qubits, mede eles e armazena os bits em um vetor. Lembre, \n",
    "    a cada qubit emaranhado, você pode enviar 2 bits de informação. Aqui você pode emaranhar \n",
    "    apenas um qubits e a partir dele, enviar de 2 em 2 bits de informação, ou construir um circuito\n",
    "    maior que envia mais bits de informação. De qualquer forma, pela limitação de simular um computador\n",
    "    quântico, você não podera colocar todos os qubits de uma vez só, e realizar essa função varias vezes\n",
    "    pode ser um boa solução. Pode utilizar as funções comentadas abaixo para separar melhor o codigo, se \n",
    "    desejar\n",
    "    Args:\n",
    "        - bin (list): lista contendo os binarios que deseja enviar.\n",
    "    Returns:\n",
    "        - (list): lista contendo os binarios enviados.\n",
    "\n",
    "    '''\n",
    "    return \n",
    "\n",
    "\"\"\"\n",
    "def emaranhar(qubits):\n",
    "    '''Aqui, você deve construir um circuito que emaranha o seu qubit \n",
    "    com o de Alice.\n",
    "\n",
    "    Args:\n",
    "        - int (int): Recebe o tamanho do circuito compartilhado com \n",
    "            Alice.\n",
    "    Returns:\n",
    "        - (QuantumCircuit): Circuito compartilhado entre voce e Alice.\n",
    "    '''\n",
    "\n",
    "    return  # qc\n",
    "\n",
    "def sua_parte(qc,bin):\n",
    "    ''' Aqui você aplicara as rotações necessarias dependendo dos bits que deseja\n",
    "    enviar para Alice.\n",
    "    Args:\n",
    "        - qc (QuantumCircuit): Recebe o circuito compartilhado por\n",
    "            voce e alice.\n",
    "        - bin (list): Recebe os binarios que deseja enviar por meio de rotações.\n",
    "    Returns:\n",
    "        - (QuantumCircuit): Circuito compartilhado entre voce e Alice.\n",
    "    '''\n",
    "    return # qc\n",
    "\n",
    "\n",
    "def alice_parte(qc):\n",
    "    ''' Alice recebe esses qubits, mede eles e armazena os bits em um vetor.\n",
    "    Args:\n",
    "        - qc (QuantumCircuit): Recebe o circuito compartilhado por\n",
    "            voce e alice.\n",
    "    Returns:\n",
    "        - (list): lista com os binarios medidos codificados.\n",
    "    '''\n",
    "    return\n",
    "\n",
    "\"\"\"\n"
   ]
  },
  {
   "cell_type": "markdown",
   "metadata": {},
   "source": [
    "# Mostre aqui o circuito que você vai usar no processo e explique o tamanho dele"
   ]
  },
  {
   "cell_type": "code",
   "execution_count": null,
   "metadata": {},
   "outputs": [],
   "source": []
  },
  {
   "cell_type": "markdown",
   "metadata": {},
   "source": [
    "# Mostre aqui o protocolo de ponta a ponta e Alice recebendo a sua mensagem"
   ]
  },
  {
   "cell_type": "code",
   "execution_count": null,
   "metadata": {},
   "outputs": [],
   "source": []
  }
 ],
 "metadata": {
  "kernelspec": {
   "display_name": "env",
   "language": "python",
   "name": "python3"
  },
  "language_info": {
   "name": "python",
   "version": "3.11.9"
  }
 },
 "nbformat": 4,
 "nbformat_minor": 2
}
